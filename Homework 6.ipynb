{
 "cells": [
  {
   "cell_type": "code",
   "execution_count": 99,
   "metadata": {},
   "outputs": [
    {
     "ename": "SyntaxError",
     "evalue": "invalid syntax (<ipython-input-99-0316a48a93b7>, line 2)",
     "output_type": "error",
     "traceback": [
      "\u001b[1;36m  File \u001b[1;32m\"<ipython-input-99-0316a48a93b7>\"\u001b[1;36m, line \u001b[1;32m2\u001b[0m\n\u001b[1;33m    var number = 0\u001b[0m\n\u001b[1;37m             ^\u001b[0m\n\u001b[1;31mSyntaxError\u001b[0m\u001b[1;31m:\u001b[0m invalid syntax\n"
     ]
    }
   ],
   "source": [
    "#question 1\n",
    "var number = 0\n",
    "input = []\n",
    "\n",
    "\n",
    "while (number >= 0):\n",
    "    variable = int(input(\"Enter your number or enter -1 when finished\"))\n",
    "    if (number < 0):\n",
    "        break\n",
    "    input.append(number)\n",
    "\n",
    "print(input)\n",
    "\n",
    "large = input[0]\n",
    "for i in range(len(input)):\n",
    "\n",
    "    if input[i] > large:\n",
    "        large = input[i]\n",
    "\n",
    "print(\"The largest # is\", large)\n",
    "\n",
    "small = input[0]\n",
    "for i in range(len(input)):\n",
    "\n",
    "    if input[i] < small:\n",
    "        small = input[i]\n",
    "\n",
    "print(\"The smallest # is\", small)"
   ]
  },
  {
   "cell_type": "code",
   "execution_count": 44,
   "metadata": {},
   "outputs": [
    {
     "name": "stdout",
     "output_type": "stream",
     "text": [
      "0.8475\n"
     ]
    }
   ],
   "source": [
    "#Question 2\n",
    "str = 'X-DSPAM-Confidence: 0.8475'\n",
    "Con = float(str.split(':')[1])\n",
    "print(Con)"
   ]
  },
  {
   "cell_type": "code",
   "execution_count": 20,
   "metadata": {},
   "outputs": [
    {
     "name": "stdout",
     "output_type": "stream",
     "text": [
      "34\n",
      "['s', 'u', 'p', 'e', 'r']\n",
      "['c', 'i', 'o', 'u', 's']\n",
      "8\n"
     ]
    }
   ],
   "source": [
    "#Question 3\n",
    "super='supercalifragilisticexpialidocious'\n",
    "x=list(super)\n",
    "print(len(super))\n",
    "print(x[0:5])\n",
    "print(x[29:])\n",
    "print(x.index('i'))\n"
   ]
  },
  {
   "cell_type": "code",
   "execution_count": 35,
   "metadata": {},
   "outputs": [
    {
     "name": "stdout",
     "output_type": "stream",
     "text": [
      "['Alex', ' EyeColor:Black', ' HairColor:black', ' Major: Math', ' School:SoIC']\n"
     ]
    }
   ],
   "source": [
    "#Question 4\n",
    "student =\"Alex, EyeColor:Black, HairColor:black, Major: Math, School:SoIC\"\n",
    "split=student.split(',')\n",
    "print(split)"
   ]
  },
  {
   "cell_type": "code",
   "execution_count": 54,
   "metadata": {},
   "outputs": [
    {
     "name": "stdout",
     "output_type": "stream",
     "text": [
      "[2, 3, 4, 5, 6, 7, 8, 9]\n",
      "None\n",
      "[3, 4, 5, 6, 7, 8]\n"
     ]
    }
   ],
   "source": [
    "#Question 5\n",
    "list = [1,2,3,4,5,6,7,8,9,10]\n",
    "def chop(list):\n",
    "    del list[0]\n",
    "    del list[-1]\n",
    "    print(list)\n",
    "print (chop(list))\n",
    "def middle(list):\n",
    "    x = list[1:-1]\n",
    "    return x\n",
    "print(middle(list))\n"
   ]
  }
 ],
 "metadata": {
  "kernelspec": {
   "display_name": "Python 3",
   "language": "python",
   "name": "python3"
  },
  "language_info": {
   "codemirror_mode": {
    "name": "ipython",
    "version": 3
   },
   "file_extension": ".py",
   "mimetype": "text/x-python",
   "name": "python",
   "nbconvert_exporter": "python",
   "pygments_lexer": "ipython3",
   "version": "3.7.0"
  }
 },
 "nbformat": 4,
 "nbformat_minor": 2
}
