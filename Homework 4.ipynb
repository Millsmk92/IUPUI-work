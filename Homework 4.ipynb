Problem 1.
hours = float(input("Enter Hours"))
rate = float(input("Enter Rate"))
if hours <= 40:
    regularpay = round(hours * rate, 2)
    print("Gross Pay: $", regularpay)
elif hours>40:
    overtimehours = round(hours - 40.00,2)
    regularpay = round(hours * rate,2)
    overtimerate = round(rate * 1.5, 2)
    overtimepay = round(overtimehours * overtimerate)
    grosspay = round(regularpay+overtimepay,2)
    print("Gross Pay: $", grosspay)

Problem 2.
hours = input("Enter Hours")
try:
    h = float(hours)
except:
    print("Invalid Input")
    quit()
rate = input("Enter Rate")
try:
    r = float(rate)
except:
    print("Invalid Input")
    quit()
if h <= 40:
    regularpay = round(hours * rate, 2)
    print("Gross Pay: $", regularpay)
elif h>40:
    overtimehours = round(hours - 40.00,2)
    regularpay = round(hours * rate,2)
    overtimerate = round(rate * 1.5, 2)
    overtimepay = round(overtimehours * overtimerate)
    grosspay = round(regularpay+overtimepay,2)
    print("Gross Pay: $", grosspay)

Problem 3.
x = float(input("Enter Score"))
if x > 1.0 or x < 0.0:
    print("Invalid Input")
elif x >= 0.9:
    print("Grade: A")
elif x >= 0.8:
    print("Grade: B")
elif x >= 0.7:
    print("Grade: C")
elif x >= 0.6:
    print("Grade: D")
else x < 0.6:
    print("Grade: F")

Problem 4.

Mlength = float(input("Enter length in meters"))
Ilength = Mlength * 39.3700787
Flength = Mlength * 3.2808399
Ylength = Mlength * 1.0936133
Milength = Mlength * .00062137
print("Inches:",Ilength,"Feet:",Flength,"Yards:", Ylength, "Miles",Milength )

Problem 5.

p = float(input("Enter interest rate"))
A = float(input("Enter the amount invested"))
n = float(input("Enter the number of years to be invested"))
T = A*(1+p/100)**n
print("$",T)