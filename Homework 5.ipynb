{
 "cells": [
  {
   "cell_type": "code",
   "execution_count": 16,
   "metadata": {},
   "outputs": [
    {
     "name": "stdout",
     "output_type": "stream",
     "text": [
      "Enter the hours you worked:45\n",
      "Enter your pay rate:10\n"
     ]
    },
    {
     "data": {
      "text/plain": [
       "('Gross Pay: $', 475.0)"
      ]
     },
     "execution_count": 16,
     "metadata": {},
     "output_type": "execute_result"
    }
   ],
   "source": [
    "#Question 1\n",
    "hours = float (input('Enter the hours you worked:'))\n",
    "rate = float (input('Enter your pay rate:'))\n",
    "\n",
    "\n",
    "def computePay (hours,rate):\n",
    "    if hours <= 40:\n",
    "        regularpay = round(hours * rate, 2)\n",
    "        return(\"Gross Pay: $\", regularpay)\n",
    "    elif hours >40:\n",
    "        overtimehours = round(hours - 40.00,2)\n",
    "        regularpay = round(hours * rate,2)\n",
    "        overtimerate = round(rate * .5, 2)\n",
    "        overtimepay = round(overtimehours * overtimerate)\n",
    "        grosspay = round(regularpay+overtimepay,2)\n",
    "        return(\"Gross Pay: $\", grosspay)\n",
    "computePay(hours,rate)"
   ]
  },
  {
   "cell_type": "code",
   "execution_count": 35,
   "metadata": {},
   "outputs": [
    {
     "name": "stdout",
     "output_type": "stream",
     "text": [
      "Enter Score.8\n",
      "Grade: B\n"
     ]
    }
   ],
   "source": [
    "#Question 2\n",
    "x = float (input(\"Enter Score\"))\n",
    "def computeGrade(score):\n",
    "    if x > 1.0 or x < 0.0:\n",
    "        print(\"Invalid Input\")\n",
    "    elif x >= 0.9:\n",
    "        print(\"Grade: A\")\n",
    "    elif x >= 0.8:\n",
    "        print(\"Grade: B\")\n",
    "    elif x >= 0.7:\n",
    "        print(\"Grade: C\")\n",
    "    elif x >= 0.6:\n",
    "        print(\"Grade: D\")\n",
    "computeGrade(x)"
   ]
  },
  {
   "cell_type": "code",
   "execution_count": 36,
   "metadata": {},
   "outputs": [
    {
     "name": "stdout",
     "output_type": "stream",
     "text": [
      "Enter a temperature in Celsius: 10\n",
      "Temperature: 10 Celsius =  50.0  F\n"
     ]
    }
   ],
   "source": [
    "#Question 3\n",
    "Celsius = int(input(\"Enter a temperature in Celsius: \"))\n",
    "\n",
    "def CelToFah(degree):\n",
    "    Fahrenheit = 9.0/5.0 * Celsius + 32\n",
    "\n",
    "    print (\"Temperature:\", Celsius, \"Celsius = \", Fahrenheit, \" F\")\n",
    "CelToFah(Celsius)"
   ]
  },
  {
   "cell_type": "code",
   "execution_count": 7,
   "metadata": {},
   "outputs": [
    {
     "name": "stdout",
     "output_type": "stream",
     "text": [
      "Enter your number, type done to calculate:5\n",
      "Enter your number, type done to calculate:10\n",
      "Enter your number, type done to calculate:15\n",
      "Enter your number, type done to calculate:done\n",
      "Total: 30.0\n",
      "Average: 10.0\n"
     ]
    }
   ],
   "source": [
    "#Question 4\n",
    "count=0\n",
    "total=0\n",
    "average=0\n",
    "while True:\n",
    "    numb = input('Enter your number, type done to calculate:')\n",
    "    if numb == 'done':\n",
    "        break\n",
    "    try:\n",
    "        count=count+1\n",
    "        total=total+ float(numb)\n",
    "    except:\n",
    "        count=count-1\n",
    "        print('Numbers Only!')\n",
    "        continue\n",
    "average = float(total)/float(count)\n",
    "print(\"Total:\",total)\n",
    "print(\"Average:\",average)"
   ]
  },
  {
   "cell_type": "code",
   "execution_count": 6,
   "metadata": {},
   "outputs": [
    {
     "name": "stdout",
     "output_type": "stream",
     "text": [
      "Success\n"
     ]
    }
   ],
   "source": [
    "#Question 5\n",
    "def sum_1k(M):\n",
    "    s=0\n",
    "    i=1\n",
    "    while(i<=M):\n",
    "        s=s+(1/i)\n",
    "        i=i+1\n",
    "    return(s)\n",
    "def test_sum_1k():\n",
    "    if sum_1k(3)==1.833333333333333333:\n",
    "        success = True\n",
    "    else:\n",
    "        success = False\n",
    "    assert success, \"Fail\"\n",
    "    print(\"Success\")\n",
    "test_sum_1k()"
   ]
  },
  {
   "cell_type": "code",
   "execution_count": 8,
   "metadata": {},
   "outputs": [
    {
     "name": "stdout",
     "output_type": "stream",
     "text": [
      "Farenheit Celsius\n",
      "0 \t -17.77777777777778\n",
      "1 \t -17.22222222222222\n",
      "2 \t -16.666666666666668\n",
      "3 \t -16.11111111111111\n",
      "4 \t -15.555555555555557\n",
      "5 \t -15.0\n",
      "6 \t -14.444444444444445\n",
      "7 \t -13.88888888888889\n",
      "8 \t -13.333333333333334\n",
      "9 \t -12.777777777777779\n",
      "10 \t -12.222222222222223\n",
      "11 \t -11.666666666666668\n",
      "12 \t -11.11111111111111\n",
      "13 \t -10.555555555555555\n",
      "14 \t -10.0\n",
      "15 \t -9.444444444444445\n",
      "16 \t -8.88888888888889\n",
      "17 \t -8.333333333333334\n",
      "18 \t -7.777777777777779\n",
      "19 \t -7.222222222222222\n",
      "20 \t -6.666666666666667\n",
      "21 \t -6.111111111111112\n",
      "22 \t -5.555555555555555\n",
      "23 \t -5.0\n",
      "24 \t -4.444444444444445\n",
      "25 \t -3.8888888888888893\n",
      "26 \t -3.3333333333333335\n",
      "27 \t -2.7777777777777777\n",
      "28 \t -2.2222222222222223\n",
      "29 \t -1.6666666666666667\n",
      "30 \t -1.1111111111111112\n",
      "31 \t -0.5555555555555556\n",
      "32 \t 0.0\n",
      "33 \t 0.5555555555555556\n",
      "34 \t 1.1111111111111112\n",
      "35 \t 1.6666666666666667\n",
      "36 \t 2.2222222222222223\n",
      "37 \t 2.7777777777777777\n",
      "38 \t 3.3333333333333335\n",
      "39 \t 3.8888888888888893\n",
      "40 \t 4.444444444444445\n",
      "41 \t 5.0\n",
      "42 \t 5.555555555555555\n",
      "43 \t 6.111111111111112\n",
      "44 \t 6.666666666666667\n",
      "45 \t 7.222222222222222\n",
      "46 \t 7.777777777777779\n",
      "47 \t 8.333333333333334\n",
      "48 \t 8.88888888888889\n",
      "49 \t 9.444444444444445\n",
      "50 \t 10.0\n",
      "51 \t 10.555555555555555\n",
      "52 \t 11.11111111111111\n",
      "53 \t 11.666666666666668\n",
      "54 \t 12.222222222222223\n",
      "55 \t 12.777777777777779\n",
      "56 \t 13.333333333333334\n",
      "57 \t 13.88888888888889\n",
      "58 \t 14.444444444444445\n",
      "59 \t 15.0\n",
      "60 \t 15.555555555555557\n",
      "61 \t 16.11111111111111\n",
      "62 \t 16.666666666666668\n",
      "63 \t 17.22222222222222\n",
      "64 \t 17.77777777777778\n",
      "65 \t 18.333333333333336\n",
      "66 \t 18.88888888888889\n",
      "67 \t 19.444444444444446\n",
      "68 \t 20.0\n",
      "69 \t 20.555555555555557\n",
      "70 \t 21.11111111111111\n",
      "71 \t 21.666666666666668\n",
      "72 \t 22.22222222222222\n",
      "73 \t 22.77777777777778\n",
      "74 \t 23.333333333333336\n",
      "75 \t 23.88888888888889\n",
      "76 \t 24.444444444444446\n",
      "77 \t 25.0\n",
      "78 \t 25.555555555555557\n",
      "79 \t 26.11111111111111\n",
      "80 \t 26.666666666666668\n",
      "81 \t 27.222222222222225\n",
      "82 \t 27.77777777777778\n",
      "83 \t 28.333333333333336\n",
      "84 \t 28.88888888888889\n",
      "85 \t 29.444444444444446\n",
      "86 \t 30.0\n",
      "87 \t 30.555555555555557\n",
      "88 \t 31.111111111111114\n",
      "89 \t 31.666666666666668\n",
      "90 \t 32.22222222222222\n",
      "91 \t 32.77777777777778\n",
      "92 \t 33.333333333333336\n",
      "93 \t 33.88888888888889\n",
      "94 \t 34.44444444444444\n",
      "95 \t 35.0\n",
      "96 \t 35.55555555555556\n",
      "97 \t 36.111111111111114\n",
      "98 \t 36.66666666666667\n",
      "99 \t 37.22222222222222\n",
      "100 \t 37.77777777777778\n"
     ]
    }
   ],
   "source": [
    "#Question 6\n",
    "print (\"Farenheit Celsius\")\n",
    "for fahrenTemp in range(101):\n",
    "    celsiusTemp = (fahrenTemp - 32) * (5/9) \n",
    "    print (fahrenTemp, \"\\t\", celsiusTemp)\n"
   ]
  },
  {
   "cell_type": "code",
   "execution_count": 11,
   "metadata": {},
   "outputs": [
    {
     "name": "stdout",
     "output_type": "stream",
     "text": [
      "This program generates the odd numbers between 1 and a number you pick\n",
      "Enter your number12\n",
      "1\n",
      "3\n",
      "5\n",
      "7\n",
      "9\n",
      "11\n",
      "finished\n"
     ]
    }
   ],
   "source": [
    "#Question 7\n",
    "print(\"This program generates the odd numbers between 1 and a number you pick\")\n",
    "x=int(input('Enter your number'))\n",
    "n=1\n",
    "while n <= x:\n",
    "    print (n),\n",
    "    n+=2\n",
    "    if n%2: n -1\n",
    "    if(n>x): print(\"finished\") \n",
    "    \n",
    "        \n"
   ]
  },
  {
   "cell_type": "code",
   "execution_count": null,
   "metadata": {},
   "outputs": [],
   "source": []
  },
  {
   "cell_type": "code",
   "execution_count": null,
   "metadata": {},
   "outputs": [],
   "source": []
  }
 ],
 "metadata": {
  "kernelspec": {
   "display_name": "Python 3",
   "language": "python",
   "name": "python3"
  },
  "language_info": {
   "codemirror_mode": {
    "name": "ipython",
    "version": 3
   },
   "file_extension": ".py",
   "mimetype": "text/x-python",
   "name": "python",
   "nbconvert_exporter": "python",
   "pygments_lexer": "ipython3",
   "version": "3.7.0"
  }
 },
 "nbformat": 4,
 "nbformat_minor": 2
}
